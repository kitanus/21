{
  "nbformat": 4,
  "nbformat_minor": 0,
  "metadata": {
    "colab": {
      "name": "Untitled0.ipynb",
      "provenance": [],
      "collapsed_sections": [],
      "authorship_tag": "ABX9TyP5OPyxJE0mayjMfonxGeeZ",
      "include_colab_link": true
    },
    "kernelspec": {
      "name": "python3",
      "display_name": "Python 3"
    }
  },
  "cells": [
    {
      "cell_type": "markdown",
      "metadata": {
        "id": "view-in-github",
        "colab_type": "text"
      },
      "source": [
        "<a href=\"https://colab.research.google.com/github/kitanus/21/blob/master/Untitled0.ipynb\" target=\"_parent\"><img src=\"https://colab.research.google.com/assets/colab-badge.svg\" alt=\"Open In Colab\"/></a>"
      ]
    },
    {
      "cell_type": "code",
      "metadata": {
        "id": "W3Az74PdxCD1"
      },
      "source": [
        "import math\n",
        "import matplotlib.pyplot as plt\n",
        "import random\n",
        "\n",
        "# Функция нейронной сети\n",
        "def neiro(arr, info, input):\n",
        "    for c in info[0]:\n",
        "        arr[c][c] = input[c]\n",
        "    for i in info[1]:\n",
        "        arr[i][i] = 0\n",
        "        for d in info[0]:\n",
        "            arr[i][i] = arr[i][i] + (arr[d][d]*arr[d][i])\n",
        "        if (-arr[i][i] > 700):\n",
        "            arr[i][i] = 1\n",
        "        else:\n",
        "            arr[i][i] = math.exp(2*arr[i][i])\n",
        "        arr[i][i] = (arr[i][i]-1)/(arr[i][i]+1)\n",
        "    \n",
        "    for s in info[2]:\n",
        "        arr[s][s] = 0\n",
        "        for f in info[1]:\n",
        "            arr[s][s] = arr[s][s] + (arr[f][f]*arr[f][s])\n",
        "        if (-arr[s][s] > 700):\n",
        "            arr[s][s] = 1\n",
        "        else: \n",
        "            arr[s][s] = math.exp(2*arr[s][s])\n",
        "        arr[s][s] = (arr[s][s]-1)/(arr[s][s]+1)\n",
        "        \n",
        "    return arr\n",
        "\n",
        "# Функция обучения\n",
        "def learnNeiro(arr, dw, info, etalon): \n",
        "    E = 0.45\n",
        "    a = 0.12\n",
        "    for s in info[2]:\n",
        "        dw[s][s] = (etalon - arr[s][s]) * (1-arr[s][s] * arr[s][s])\n",
        "    \n",
        "        for d in info[1]:\n",
        "            dw[d][d] = (1 - arr[d][d] * arr[d][d]) * (arr[d][s] * dw[s][s])\n",
        "            Grad = arr[d][d] * dw[s][s]\n",
        "            dw[d][s] = E * Grad + a * dw[d][s]\n",
        "            arr[d][s] = arr[d][s] + dw[d][s]\n",
        "    \n",
        "    for f in info[1]:\n",
        "        for g in info[0]:\n",
        "            Grad = arr[g][g] * dw[f][f]\n",
        "            dw[g][f] = E * Grad + a * dw[g][f]\n",
        "            arr[g][f] = arr[g][f] + dw[g][f]\n",
        "    \n",
        "    return [arr, dw, E, a]\n",
        "    \n",
        "# расчет ошибки\n",
        "def errorNeiro(output, etalon):\n",
        "    num = 0\n",
        "    for i in range(len(output)):\n",
        "        num = num + pow(etalon[i] - output[i],2)\n",
        "    return num/len(output)"
      ],
      "execution_count": 1,
      "outputs": []
    },
    {
      "cell_type": "code",
      "metadata": {
        "id": "QlXgTp3GyeOu"
      },
      "source": [
        "arr = [\n",
        "    [1, 0, 0, 1, random.uniform(-0.5, 0.5), random.uniform(-0.5, 0.5), random.uniform(-0.5, 0.5), random.uniform(-0.5, 0.5), random.uniform(-0.5, 0.5), 0,  0],\n",
        "    [0, 0, 0, 1, random.uniform(-0.5, 0.5), random.uniform(-0.5, 0.5), random.uniform(-0.5, 0.5), random.uniform(-0.5, 0.5), random.uniform(-0.5, 0.5), 0,  0],\n",
        "    [0, 0, 0, 0, 0, 0, 0, 0, 0, 0, random.uniform(-0.5, 0.5)],\n",
        "    [0, 0, 0, 0, 0, 0, 0, 0, 0, 0, random.uniform(-0.5, 0.5)],\n",
        "    [0, 0, 0, 0, 0, 0, 0, 0, 0, 0, random.uniform(-0.5, 0.5)],\n",
        "    [0, 0, 0, 0, 0, 0, 0, 0, 0, 0, random.uniform(-0.5, 0.5)],\n",
        "    [0, 0, 0, 0, 0, 0, 0, 0, 0, 0, random.uniform(-0.5, 0.5)],\n",
        "    [0, 0, 0, 0, 0, 0, 0, 0, 0, 0, random.uniform(-0.5, 0.5)],\n",
        "    [0, 0, 0, 0, 0, 0, 0, 0, 0, 0, random.uniform(-0.5, 0.5)],\n",
        "    [0, 0, 0, 0, 0, 0, 0, 0, 0, 0, random.uniform(-0.5, 0.5)],\n",
        "    [0, 0, 0, 0, 0, 0, 0, 0, 0, 0, 0]\n",
        "    ]\n",
        "  "
      ],
      "execution_count": null,
      "outputs": []
    },
    {
      "cell_type": "code",
      "metadata": {
        "id": "_waCMrfnyvfB"
      },
      "source": [
        "max = 75\n",
        "\n",
        "T = 30\n",
        "a = 1.00151*math.pow(10, -4)\n",
        "b = 8.67973*math.pow(10, -3)\n",
        "y = 40\n",
        "Y = 25\n",
        "at = math.exp(-a * T)\n",
        "bt = (b * (1 - at))/a\n",
        "\n",
        "input = [\n",
        "  25.02, 25.03, 25.05, 25.14, 25.27, 25.54, 25.94, 26.36, 26.97, 27.69, \n",
        "  28.39, 29.13, 30.00, 30.89, 31.86, 32.88, 33.86, 34.90, 35.94, 36.98, \n",
        "  38.00, 39.03, 40.09, 41.12, 42.27, 43.48, 44.63, 45.78, 46.87, 47.97, \n",
        "  49.04, 50.23, 51.36, 52.48, 53.67, 54.74, 55.87, 56.97, 58.01, 59.09, \n",
        "  60.21, 61.35, 62.42, 63.51, 64.56, 65.63, 66.58, 67.55, 68.53, 69.48, \n",
        "  70.38, 71.18, 71.98, 72.71, 73.20, 73.83, 74.27, 74.58, 74.84, 74.84, \n",
        "  74.84, 74.84, 74.84, 74.84, 74.84, 74.84\n",
        "]\n",
        "\n",
        "fin_input = [];\n",
        "etalon = [];\n",
        "\n",
        "for in1 in range(len(input)):\n",
        "  fin_input.append([]);\n",
        "  fin_input[in1].append((max-input[in1])/(max-input[0]));\n",
        "  fin_input[in1].append((fin_input[in1][0]-fin_input[in1-1][0])/(max-input[0]) if in1 > 0 else 0);\n",
        "  fin_input[in1].append((fin_input[in1][1]-fin_input[in1-1][1])/(max-input[0]) if in1 > 1 else 0);\n",
        "  fin_input[in1].append(1);\n",
        "  if in1 > 0:\n",
        "    etalon.append((((input[in1]-at*input[in1-1]-(1-at)*input[0])*(1+math.exp(0.5*input[in1-1]-y)))/bt)/max-input[0]);\n",
        "  else:\n",
        "    etalon.append(0);"
      ],
      "execution_count": null,
      "outputs": []
    },
    {
      "cell_type": "code",
      "metadata": {
        "colab": {
          "base_uri": "https://localhost:8080/",
          "height": 657
        },
        "id": "1fi8aqfBWQKf",
        "outputId": "5d0ac434-63b7-4875-a3ae-3912dd7da276"
      },
      "source": [
        "info = [[0,1,2,3],[4,5,6,7,8,9],[10]]\n",
        "\n",
        "dv = []    \n",
        "for sdv in range(len(fin_input)):\n",
        "  dv.append([])\n",
        "  for ddv in range(len(arr)):\n",
        "    dv[sdv].append([])\n",
        "    for adv in range(len(arr[0])):\n",
        "      dv[sdv][ddv].append(0)  \n",
        "\n",
        "result = []\n",
        "r2 = []\n",
        "arr = neiro(arr, info, fin_input[2])\n",
        "larr = learnNeiro(arr, dv[2], info, etalon[2])\n",
        "dv[2] = larr[1]\n",
        "\n",
        "resNeiro = []\n",
        "for b in fin_input:\n",
        "  resNeiro.append(neiro(larr[0], info, b)[10][10]) \n",
        "\n",
        "print(errorNeiro(resNeiro,etalon))\n",
        "x = 0\n",
        "E = 0\n",
        "a = 0\n",
        "while errorNeiro(resNeiro,etalon) > 0.0001 and x < 1000:\n",
        "    iter = [0,1,2,3,4,5,6,7,8,9,10,11,12,13,14,15,16,17,18,19,20,21,22,23,24,25,26,27,28,29,30,31,32,33,34,35,36,37,38,39,40,41,42,43,44,45,46,47,48,49,50,51,52,53,54,55,56]\n",
        "    random.shuffle(iter)\n",
        "    for z in iter:\n",
        "        larr = learnNeiro(neiro(larr[0], info, fin_input[z]), dv[z], info, etalon[z])\n",
        "        dv[z] = larr[1]\n",
        "        E = larr[2]\n",
        "        a = larr[3]\n",
        "    resNeiro = []\n",
        "    for b in fin_input:\n",
        "      resNeiro.append(neiro(larr[0], info, b)[10][10]) \n",
        "    result.append(errorNeiro(resNeiro,etalon))\n",
        "    x = x + 1\n",
        "    \n",
        "plt.plot(result)\n",
        "plt.show()\n",
        "\n",
        "print(errorNeiro(resNeiro,etalon))\n",
        "print(neiro(larr[0], info, b))\n",
        "print(etalon)\n",
        "print(x)\n",
        "print('---')\n",
        "plt.plot(resNeiro)\n",
        "plt.show()\n"
      ],
      "execution_count": null,
      "outputs": [
        {
          "output_type": "stream",
          "text": [
            "566.1831797288828\n"
          ],
          "name": "stdout"
        },
        {
          "output_type": "display_data",
          "data": {
            "image/png": "[encoded data removed]",
            "text/plain": [
              "<Figure size 432x288 with 1 Axes>"
            ]
          },
          "metadata": {
            "tags": [],
            "needs_background": "light"
          }
        },
        {
          "output_type": "stream",
          "text": [
            "566.1785365944435\n",
            "[[0.0032012805122048136, 0, 0, 1, -2.9268196524839314, -2.8377309663068475, -2.9955481631024004, 0.9441054997092888, 1.9861963890634453, 5.005638793043091, 0], [0, 0.0, 0, 1, -0.11925494926791004, -0.0454876257538586, 0.4700379400431674, 0.12081216118068618, -0.11189735440570725, -4.010378637729939e-05, 0], [0, 0, 0.0, 0, 2.1395263986393228e-07, 1.8015749538394144e-07, 2.521466146037113e-07, -8.088140733436259e-08, -1.7681789056165438e-07, -4.0116898859088634e-07, 0.4589328930735086], [0, 0, 0, 1, -2.7054099237339417, -2.3743376835365573, -3.142545324638331, 0.9708745266849327, 2.150141799461963, 5.008652877162748, -0.09132289281547101], [0, 0, 0, 0, -0.9912682306181725, 0, 0, 0, 0, 0, 3.6158478499378557], [0, 0, 0, 0, 0, -0.9831291523144201, 0, 0, 0, 0, 6.47555120495623], [0, 0, 0, 0, 0, 0, -0.9963497129103464, 0, 0, 0, -1.0285116837899846], [0, 0, 0, 0, 0, 0, 0, 0.7504117459709443, 0, 0, -0.0952309145917961], [0, 0, 0, 0, 0, 0, 0, 0, 0.9735674102327095, 0, 1.4424050285648415], [0, 0, 0, 0, 0, 0, 0, 0, 0, 0.9999135764797684, -0.9476133884136252], [0, 0, 0, 0, 0, 0, 0, 0, 0, 0, -0.9999999236490583]]\n",
            "[0, -25.019487181684084, -25.018972824902498, -25.01538001975975, -25.013314900305023, -25.00611544382846, -24.999407267148364, -24.998320091889557, -24.98851192832885, -24.98277708044763, -24.983691947550867, -24.981532981689934, -24.974752497122996, -24.973593013977272, -24.969353544004502, -24.966640221253755, -24.968534571017496, -24.965306891483724, -24.965146891050008, -24.964986890613822, -24.965852526805765, -24.965182784974168, -24.963485868031828, -24.96486124557094, -24.95854896371267, -24.955295130071462, -24.958185885309398, -24.95800896118906, -24.960908946634188, -24.96022843392827, -24.961597655000396, -24.955279213605937, -24.958173037119007, -24.958511992904445, -24.95474992469033, -24.960720622430706, -24.95747900572757, -24.95884346653522, -24.961750916037897, -24.95953920877937, -24.957320990718056, -24.956121630298217, -24.959533803296548, -24.958339555695467, -24.96021682941463, -24.959018291552173, -24.96499289427473, -24.963794347573817, -24.963088286341577, -24.964409367464707, -24.966731014932815, -24.971604925015107, -24.97128798462969, -24.974529783957575, -24.986686927096702, -24.978954536150162, -24.988551492088316, -24.995188049005485, -24.99764761535848, -25.01175458385267, -25.01175458385267, -25.01175458385267, -25.01175458385267, -25.01175458385267, -25.01175458385267, -25.01175458385267]\n",
            "1000\n",
            "---\n"
          ],
          "name": "stdout"
        },
        {
          "output_type": "display_data",
          "data": {
            "image/png": "[encoded data removed]",
            "text/plain": [
              "<Figure size 432x288 with 1 Axes>"
            ]
          },
          "metadata": {
            "tags": [],
            "needs_background": "light"
          }
        }
      ]
    },
    {
      "cell_type": "code",
      "metadata": {
        "colab": {
          "base_uri": "https://localhost:8080/",
          "height": 229
        },
        "id": "8CzHG64oYRhc",
        "outputId": "f35d7a21-9d75-406c-8c28-6b02e6088586"
      },
      "source": [
        "ress = []\n",
        "per = 26\n",
        "ress.append(per)\n",
        "per2 = 75 - per\n",
        "per3 = per2;\n",
        "per22 = per2\n",
        "per4 = per3;\n",
        "per32 = per3\n",
        "neiro(larr[0], info, [per2, per3, per4, 1])[10][10]\n",
        "T = 30\n",
        "a = 1.00151*math.pow(10, -4)\n",
        "b = 8.67973*math.pow(10, -3)\n",
        "y = 40\n",
        "Y = 25\n",
        "at = math.exp(-a*T)\n",
        "bt = (b*(1-at))/a\n",
        "yt = at*per+((bt*resNeiro[0])/(1+math.exp(0.5*per-y)))+(1-at)*Y\n",
        "ress.append(yt)\n",
        "\n",
        "for h in range(54):\n",
        "  per2 = 75 - yt\n",
        "  per3 = (per2-per22);\n",
        "  per22 = per2\n",
        "  per4 = (per3-per32);\n",
        "  per32 = per3\n",
        "  yt = at*yt+((bt*resNeiro[h+1])/(1+math.exp(0.5*per-y)))+(1-at)*Y\n",
        "  ress.append(yt)\n",
        "\n",
        "plt.plot(ress)\n",
        "plt.show()\n",
        "\n",
        "print(ress)"
      ],
      "execution_count": null,
      "outputs": [
        {
          "output_type": "error",
          "ename": "NameError",
          "evalue": "ignored",
          "traceback": [
            "\u001b[0;31m---------------------------------------------------------------------------\u001b[0m",
            "\u001b[0;31mNameError\u001b[0m                                 Traceback (most recent call last)",
            "\u001b[0;32m<ipython-input-1-0a9387a4dc2a>\u001b[0m in \u001b[0;36m<module>\u001b[0;34m()\u001b[0m\n\u001b[1;32m      7\u001b[0m \u001b[0mper4\u001b[0m \u001b[0;34m=\u001b[0m \u001b[0mper3\u001b[0m\u001b[0;34m;\u001b[0m\u001b[0;34m\u001b[0m\u001b[0;34m\u001b[0m\u001b[0m\n\u001b[1;32m      8\u001b[0m \u001b[0mper32\u001b[0m \u001b[0;34m=\u001b[0m \u001b[0mper3\u001b[0m\u001b[0;34m\u001b[0m\u001b[0;34m\u001b[0m\u001b[0m\n\u001b[0;32m----> 9\u001b[0;31m \u001b[0mneiro\u001b[0m\u001b[0;34m(\u001b[0m\u001b[0mlarr\u001b[0m\u001b[0;34m[\u001b[0m\u001b[0;36m0\u001b[0m\u001b[0;34m]\u001b[0m\u001b[0;34m,\u001b[0m \u001b[0minfo\u001b[0m\u001b[0;34m,\u001b[0m \u001b[0;34m[\u001b[0m\u001b[0mper2\u001b[0m\u001b[0;34m,\u001b[0m \u001b[0mper3\u001b[0m\u001b[0;34m,\u001b[0m \u001b[0mper4\u001b[0m\u001b[0;34m,\u001b[0m \u001b[0;36m1\u001b[0m\u001b[0;34m]\u001b[0m\u001b[0;34m)\u001b[0m\u001b[0;34m[\u001b[0m\u001b[0;36m13\u001b[0m\u001b[0;34m]\u001b[0m\u001b[0;34m[\u001b[0m\u001b[0;36m13\u001b[0m\u001b[0;34m]\u001b[0m\u001b[0;34m\u001b[0m\u001b[0;34m\u001b[0m\u001b[0m\n\u001b[0m\u001b[1;32m     10\u001b[0m \u001b[0mT\u001b[0m \u001b[0;34m=\u001b[0m \u001b[0;36m30\u001b[0m\u001b[0;34m\u001b[0m\u001b[0;34m\u001b[0m\u001b[0m\n\u001b[1;32m     11\u001b[0m \u001b[0ma\u001b[0m \u001b[0;34m=\u001b[0m \u001b[0;36m1.00151\u001b[0m\u001b[0;34m*\u001b[0m\u001b[0mmath\u001b[0m\u001b[0;34m.\u001b[0m\u001b[0mpow\u001b[0m\u001b[0;34m(\u001b[0m\u001b[0;36m10\u001b[0m\u001b[0;34m,\u001b[0m \u001b[0;34m-\u001b[0m\u001b[0;36m4\u001b[0m\u001b[0;34m)\u001b[0m\u001b[0;34m\u001b[0m\u001b[0;34m\u001b[0m\u001b[0m\n",
            "\u001b[0;31mNameError\u001b[0m: name 'neiro' is not defined"
          ]
        }
      ]
    },
    {
      "cell_type": "code",
      "metadata": {
        "id": "vb6qQUwia7fL",
        "colab": {
          "base_uri": "https://localhost:8080/"
        },
        "outputId": "ce0390cf-9d83-4dcb-9f5d-15d98149e30a"
      },
      "source": [
        "print(x < 80000)"
      ],
      "execution_count": null,
      "outputs": [
        {
          "output_type": "stream",
          "text": [
            "True\n"
          ],
          "name": "stdout"
        }
      ]
    },
    {
      "cell_type": "code",
      "metadata": {
        "id": "WZTDTMV0RqX7"
      },
      "source": [
        ""
      ],
      "execution_count": null,
      "outputs": []
    }
  ]
}